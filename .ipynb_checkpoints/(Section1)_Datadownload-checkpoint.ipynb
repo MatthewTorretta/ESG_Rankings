{
 "cells": [
  {
   "cell_type": "code",
   "execution_count": 26,
   "id": "effbd9ae-0b3e-4a96-a26f-d8558c063500",
   "metadata": {},
   "outputs": [],
   "source": [
    "import os\n",
    "import requests\n",
    "import pandas as pd\n",
    "import shutil"
   ]
  },
  {
   "cell_type": "code",
   "execution_count": 30,
   "id": "89aab656-07b8-4241-9f1c-79544bc9a007",
   "metadata": {},
   "outputs": [],
   "source": [
    "os.chdir(r'/Users/matthewtorretta/Library/CloudStorage/OneDrive-UniversityCollegeDublin/Fin42110Datasci/FDS PROJECT')"
   ]
  },
  {
   "cell_type": "code",
   "execution_count": 19,
   "id": "6b5f45ed-c4d4-45c3-aa1d-a9c153e56758",
   "metadata": {},
   "outputs": [
    {
     "data": {
      "text/plain": [
       "{'x-amz-id-2': 'fRuB02MnEmbB6zSxDM8bGeoDx8IMKgI2STtu2qmfsRBhbLrjAcYm56cnoDM7upRpRdeDx0ithFs=', 'x-amz-request-id': 'JCR7X292CVJ5GTTR', 'Date': 'Sun, 10 Apr 2022 16:39:02 GMT', 'Last-Modified': 'Wed, 16 Mar 2022 21:24:54 GMT', 'ETag': '\"232e580f09697ac3dd794a72deb0ead2\"', 'Accept-Ranges': 'bytes', 'Content-Type': 'application/vnd.openxmlformats-officedocument.spreadsheetml.sheet', 'Server': 'AmazonS3', 'Content-Length': '6650071'}"
      ]
     },
     "execution_count": 19,
     "metadata": {},
     "output_type": "execute_result"
    }
   ],
   "source": [
    "url = 'http://iyv-charts.s3-us-west-2.amazonaws.com/files/Invest+Your+Values+shareclass+results+20220316.xlsx'\n",
    "req = requests.get(url)\n",
    "req.headers"
   ]
  },
  {
   "cell_type": "code",
   "execution_count": 20,
   "id": "2140d163-7f13-4331-b9fc-c5cd5348aadf",
   "metadata": {},
   "outputs": [
    {
     "name": "stdout",
     "output_type": "stream",
     "text": [
      "Invest+Your+Values+shareclass+results+20220316.xlsx\n"
     ]
    }
   ],
   "source": [
    "filename = req.url[url.rfind('/')+1:]\n",
    "print(filename)"
   ]
  },
  {
   "cell_type": "code",
   "execution_count": 23,
   "id": "d1431159-8c1c-412c-ab92-0d11acd64194",
   "metadata": {},
   "outputs": [],
   "source": [
    "def download_file(url, filename=''):\n",
    "    try:\n",
    "        if filename:\n",
    "            pass            \n",
    "        else:\n",
    "            filename = req.url[downloadUrl.rfind('/')+1:]\n",
    "\n",
    "        with requests.get(url) as req:\n",
    "            r = requests.get(url, verify=False, stream=True)\n",
    "            r.raw.decode_content = True\n",
    "            if r.status_code == 200:\n",
    "                with open(\"/Users/matthewtorretta/Library/CloudStorage/OneDrive-UniversityCollegeDublin/Fin42110Datasci/FDS PROJECT/\"+ filename, 'wb') as f:\n",
    "                    shutil.copyfileobj(r.raw, f) \n",
    "                    for chunk in req.iter_content(chunk_size=8192):\n",
    "                        if chunk:\n",
    "                            f.write(chunk)\n",
    "            return filename\n",
    "    except Exception as e:\n",
    "        print(e)\n",
    "        return None"
   ]
  },
  {
   "cell_type": "code",
   "execution_count": 24,
   "id": "778500d7-f720-4891-b19b-1356ad936e0c",
   "metadata": {},
   "outputs": [
    {
     "data": {
      "text/plain": [
       "'Share Class Results.xlsx'"
      ]
     },
     "execution_count": 24,
     "metadata": {},
     "output_type": "execute_result"
    }
   ],
   "source": [
    "download_file(url, 'Share Class Results.xlsx')"
   ]
  },
  {
   "cell_type": "code",
   "execution_count": 2,
   "id": "4a220edd-c12b-484a-a702-f929c960ebac",
   "metadata": {},
   "outputs": [
    {
     "name": "stdout",
     "output_type": "stream",
     "text": [
      "AttemptWebscrap.ipynb\n",
      "BNPP AM_SustainabilityReport2020_EN.pdf\n",
      "Cleaning + DataBase.ipynb\n",
      "Company Screens.xlsx\n",
      "Data visualisation.ipynb\n",
      "ESG.png\n",
      "FossilFreeFunds.db\n",
      "FundSectors.ipynb\n",
      "MachineLearning.ipynb\n",
      "Share Class Results.csv\n",
      "Share Class Results.xlsx\n",
      "Textual Analysis.ipynb\n",
      "Webscraping.ipynb\n",
      "WordlBankGroupReport.pdf\n"
     ]
    }
   ],
   "source": [
    "ls"
   ]
  },
  {
   "cell_type": "code",
   "execution_count": null,
   "id": "d1cc1577-16dd-420a-978c-437fd33ea271",
   "metadata": {},
   "outputs": [],
   "source": []
  }
 ],
 "metadata": {
  "kernelspec": {
   "display_name": "Python 3",
   "language": "python",
   "name": "python3"
  },
  "language_info": {
   "codemirror_mode": {
    "name": "ipython",
    "version": 3
   },
   "file_extension": ".py",
   "mimetype": "text/x-python",
   "name": "python",
   "nbconvert_exporter": "python",
   "pygments_lexer": "ipython3",
   "version": "3.8.8"
  }
 },
 "nbformat": 4,
 "nbformat_minor": 5
}
