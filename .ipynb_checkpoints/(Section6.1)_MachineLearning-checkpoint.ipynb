{
 "cells": [
  {
   "cell_type": "code",
   "execution_count": 98,
   "id": "5afef8bd-16af-4061-850e-3492614efb04",
   "metadata": {},
   "outputs": [],
   "source": [
    "import pandas as pd\n",
    "import numpy as np\n",
    "from numpy import argmax\n",
    "from pandas import read_csv\n",
    "from pandas.plotting import scatter_matrix\n",
    "from matplotlib import pyplot\n",
    "from sklearn.model_selection import train_test_split\n",
    "from sklearn.model_selection import cross_val_score\n",
    "from sklearn.model_selection import StratifiedKFold\n",
    "from sklearn.metrics import classification_report\n",
    "from sklearn.metrics import confusion_matrix\n",
    "from sklearn.metrics import accuracy_score\n",
    "from sklearn.linear_model import LogisticRegression\n",
    "from sklearn.tree import DecisionTreeClassifier\n",
    "from sklearn.neighbors import KNeighborsClassifier\n",
    "from sklearn.discriminant_analysis import LinearDiscriminantAnalysis\n",
    "from sklearn.naive_bayes import GaussianNB\n",
    "from sklearn.svm import SVC"
   ]
  },
  {
   "cell_type": "code",
   "execution_count": null,
   "id": "f4a45c1f-7927-43ef-8204-694ad33a6c16",
   "metadata": {},
   "outputs": [],
   "source": [
    "# (Jason Brownlee, Machine Learning Mastery) Based my code off of some of his tutorials"
   ]
  },
  {
   "cell_type": "code",
   "execution_count": 192,
   "id": "5318938e-c5a7-4141-af11-c5194975ad95",
   "metadata": {},
   "outputs": [
    {
     "data": {
      "text/html": [
       "<div>\n",
       "<style scoped>\n",
       "    .dataframe tbody tr th:only-of-type {\n",
       "        vertical-align: middle;\n",
       "    }\n",
       "\n",
       "    .dataframe tbody tr th {\n",
       "        vertical-align: top;\n",
       "    }\n",
       "\n",
       "    .dataframe thead th {\n",
       "        text-align: right;\n",
       "    }\n",
       "</style>\n",
       "<table border=\"1\" class=\"dataframe\">\n",
       "  <thead>\n",
       "    <tr style=\"text-align: right;\">\n",
       "      <th></th>\n",
       "      <th>Fund profile: Shareclass name</th>\n",
       "      <th>Fossil Free Funds: Fossil fuel holdings, weight</th>\n",
       "      <th>Fossil Free Funds: Relative carbon footprint (tonnes CO2 / $1M USD invested)</th>\n",
       "      <th>Fossil Free Funds: Clean200, weight</th>\n",
       "      <th>Fossil Free Funds: Fossil fuel grade</th>\n",
       "    </tr>\n",
       "  </thead>\n",
       "  <tbody>\n",
       "    <tr>\n",
       "      <th>0</th>\n",
       "      <td>13D Activist A</td>\n",
       "      <td>0.052510</td>\n",
       "      <td>175.67</td>\n",
       "      <td>0.024756</td>\n",
       "      <td>C</td>\n",
       "    </tr>\n",
       "    <tr>\n",
       "      <th>1</th>\n",
       "      <td>13D Activist C</td>\n",
       "      <td>0.052510</td>\n",
       "      <td>175.67</td>\n",
       "      <td>0.024756</td>\n",
       "      <td>C</td>\n",
       "    </tr>\n",
       "    <tr>\n",
       "      <th>2</th>\n",
       "      <td>13D Activist I</td>\n",
       "      <td>0.052510</td>\n",
       "      <td>175.67</td>\n",
       "      <td>0.024756</td>\n",
       "      <td>C</td>\n",
       "    </tr>\n",
       "    <tr>\n",
       "      <th>3</th>\n",
       "      <td>1919 Socially Responsive Balanced A</td>\n",
       "      <td>0.000000</td>\n",
       "      <td>27.47</td>\n",
       "      <td>0.168076</td>\n",
       "      <td>A</td>\n",
       "    </tr>\n",
       "    <tr>\n",
       "      <th>4</th>\n",
       "      <td>1919 Socially Responsive Balanced C</td>\n",
       "      <td>0.000000</td>\n",
       "      <td>27.47</td>\n",
       "      <td>0.168076</td>\n",
       "      <td>A</td>\n",
       "    </tr>\n",
       "    <tr>\n",
       "      <th>...</th>\n",
       "      <td>...</td>\n",
       "      <td>...</td>\n",
       "      <td>...</td>\n",
       "      <td>...</td>\n",
       "      <td>...</td>\n",
       "    </tr>\n",
       "    <tr>\n",
       "      <th>8781</th>\n",
       "      <td>Xtrackers S&amp;P 500 ESG ETF</td>\n",
       "      <td>0.059366</td>\n",
       "      <td>46.99</td>\n",
       "      <td>0.264717</td>\n",
       "      <td>D</td>\n",
       "    </tr>\n",
       "    <tr>\n",
       "      <th>8782</th>\n",
       "      <td>Xtrackers S&amp;P MidCap 400 ESG ETF</td>\n",
       "      <td>0.037695</td>\n",
       "      <td>201.98</td>\n",
       "      <td>0.027165</td>\n",
       "      <td>C</td>\n",
       "    </tr>\n",
       "    <tr>\n",
       "      <th>8783</th>\n",
       "      <td>Xtrackers S&amp;P SmallCap 600 ESG ETF</td>\n",
       "      <td>0.048334</td>\n",
       "      <td>147.02</td>\n",
       "      <td>0.005846</td>\n",
       "      <td>C</td>\n",
       "    </tr>\n",
       "    <tr>\n",
       "      <th>8784</th>\n",
       "      <td>iClima Distributed Smart Energy ETF</td>\n",
       "      <td>0.000000</td>\n",
       "      <td>89.69</td>\n",
       "      <td>0.393784</td>\n",
       "      <td>A</td>\n",
       "    </tr>\n",
       "    <tr>\n",
       "      <th>8785</th>\n",
       "      <td>iClima Glbl Dcrbnztn Trnstn Ldrs ETF</td>\n",
       "      <td>0.029685</td>\n",
       "      <td>126.93</td>\n",
       "      <td>0.375935</td>\n",
       "      <td>B</td>\n",
       "    </tr>\n",
       "  </tbody>\n",
       "</table>\n",
       "<p>8786 rows × 5 columns</p>\n",
       "</div>"
      ],
      "text/plain": [
       "             Fund profile: Shareclass name  \\\n",
       "0                           13D Activist A   \n",
       "1                           13D Activist C   \n",
       "2                           13D Activist I   \n",
       "3      1919 Socially Responsive Balanced A   \n",
       "4      1919 Socially Responsive Balanced C   \n",
       "...                                    ...   \n",
       "8781             Xtrackers S&P 500 ESG ETF   \n",
       "8782      Xtrackers S&P MidCap 400 ESG ETF   \n",
       "8783    Xtrackers S&P SmallCap 600 ESG ETF   \n",
       "8784   iClima Distributed Smart Energy ETF   \n",
       "8785  iClima Glbl Dcrbnztn Trnstn Ldrs ETF   \n",
       "\n",
       "      Fossil Free Funds: Fossil fuel holdings, weight  \\\n",
       "0                                            0.052510   \n",
       "1                                            0.052510   \n",
       "2                                            0.052510   \n",
       "3                                            0.000000   \n",
       "4                                            0.000000   \n",
       "...                                               ...   \n",
       "8781                                         0.059366   \n",
       "8782                                         0.037695   \n",
       "8783                                         0.048334   \n",
       "8784                                         0.000000   \n",
       "8785                                         0.029685   \n",
       "\n",
       "      Fossil Free Funds: Relative carbon footprint (tonnes CO2 / $1M USD invested)  \\\n",
       "0                                                175.67                              \n",
       "1                                                175.67                              \n",
       "2                                                175.67                              \n",
       "3                                                 27.47                              \n",
       "4                                                 27.47                              \n",
       "...                                                 ...                              \n",
       "8781                                              46.99                              \n",
       "8782                                             201.98                              \n",
       "8783                                             147.02                              \n",
       "8784                                              89.69                              \n",
       "8785                                             126.93                              \n",
       "\n",
       "      Fossil Free Funds: Clean200, weight Fossil Free Funds: Fossil fuel grade  \n",
       "0                                0.024756                                    C  \n",
       "1                                0.024756                                    C  \n",
       "2                                0.024756                                    C  \n",
       "3                                0.168076                                    A  \n",
       "4                                0.168076                                    A  \n",
       "...                                   ...                                  ...  \n",
       "8781                             0.264717                                    D  \n",
       "8782                             0.027165                                    C  \n",
       "8783                             0.005846                                    C  \n",
       "8784                             0.393784                                    A  \n",
       "8785                             0.375935                                    B  \n",
       "\n",
       "[8786 rows x 5 columns]"
      ]
     },
     "execution_count": 192,
     "metadata": {},
     "output_type": "execute_result"
    }
   ],
   "source": [
    "read_file = pd.read_excel(r'Share Class Results.xlsx', sheet_name = 'Shareclasses')\n",
    "read_file.to_csv(r'Share Class Results.csv', index = None, header=True)\n",
    "df = pd.read_csv('Share Class Results.csv')\n",
    "selected_columns = df[[\"Fund profile: Shareclass name\", \\\n",
    "                       \"Fossil Free Funds: Fossil fuel holdings, weight\", \\\n",
    "                       \"Fossil Free Funds: Relative carbon footprint (tonnes CO2 / $1M USD invested)\", \\\n",
    "                       \"Fossil Free Funds: Clean200, weight\",\\\n",
    "                       \"Fossil Free Funds: Fossil fuel grade\"]]\n",
    "dataset = selected_columns.copy()\n",
    "dataset.dropna()\n",
    "dataset"
   ]
  },
  {
   "cell_type": "code",
   "execution_count": 100,
   "id": "d4be25e2-cc53-4841-a79b-8ffba61e42aa",
   "metadata": {},
   "outputs": [
    {
     "name": "stdout",
     "output_type": "stream",
     "text": [
      "Fossil Free Funds: Fossil fuel grade\n",
      "A    1598\n",
      "B    1491\n",
      "C    1334\n",
      "D    2186\n",
      "F    2177\n",
      "dtype: int64\n"
     ]
    }
   ],
   "source": [
    "print(dataset.groupby('Fossil Free Funds: Fossil fuel grade').size())"
   ]
  },
  {
   "cell_type": "code",
   "execution_count": 187,
   "id": "3b2c7b17-71c6-4812-8a73-ddafe6fa9fa8",
   "metadata": {},
   "outputs": [
    {
     "data": {
      "image/png": "[encoded data removed]",
      "text/plain": [
       "<Figure size 1008x432 with 3 Axes>"
      ]
     },
     "metadata": {
      "needs_background": "light"
     },
     "output_type": "display_data"
    }
   ],
   "source": [
    "dataset.plot(kind='box', figsize=(14, 6), subplots=True, sharex=False, sharey=False)\n",
    "pyplot.tight_layout()\n",
    "pyplot.savefig('ML_boxplot.png')\n",
    "pyplot.show()"
   ]
  },
  {
   "cell_type": "code",
   "execution_count": 188,
   "id": "6fb67c27-2dd6-4fa4-b774-e04d35360b9a",
   "metadata": {},
   "outputs": [
    {
     "data": {
      "image/png": "[encoded data removed]",
      "text/plain": [
       "<Figure size 936x576 with 4 Axes>"
      ]
     },
     "metadata": {
      "needs_background": "light"
     },
     "output_type": "display_data"
    }
   ],
   "source": [
    "dataset.hist(figsize=(13, 8))\n",
    "pyplot.tight_layout()\n",
    "pyplot.savefig('ML_hist.png')\n",
    "pyplot.show()"
   ]
  },
  {
   "cell_type": "code",
   "execution_count": 111,
   "id": "d108e7ec-aa17-452e-97f3-01d77dae1f94",
   "metadata": {},
   "outputs": [],
   "source": [
    "np = dataset.values\n",
    "X = np[:,1:4]\n",
    "y = np[:,4]\n",
    "X_train, X_validation, Y_train, Y_validation = train_test_split(X, y, test_size=0.20, random_state=1)"
   ]
  },
  {
   "cell_type": "code",
   "execution_count": 112,
   "id": "85494d98-46a6-4029-808d-5ba4e77930e9",
   "metadata": {},
   "outputs": [],
   "source": [
    "models = []\n",
    "models.append(('LR', LogisticRegression(solver='liblinear', multi_class='ovr')))\n",
    "models.append(('LDA', LinearDiscriminantAnalysis()))\n",
    "models.append(('KNN', KNeighborsClassifier()))\n",
    "models.append(('CART', DecisionTreeClassifier()))\n",
    "models.append(('NB', GaussianNB()))\n",
    "models.append(('SVM', SVC(gamma='auto')))"
   ]
  },
  {
   "cell_type": "code",
   "execution_count": 157,
   "id": "40fbd26e-f301-4e32-bb79-ade350ac5c4b",
   "metadata": {},
   "outputs": [
    {
     "name": "stdout",
     "output_type": "stream",
     "text": [
      "LR: 0.583668 (0.014642)\n",
      "LDA: 0.489614 (0.018377)\n",
      "KNN: 0.799091 (0.015358)\n",
      "CART: 1.000000 (0.000000)\n",
      "NB: 0.892003 (0.009796)\n",
      "SVM: 0.597471 (0.017781)\n"
     ]
    }
   ],
   "source": [
    "results = []\n",
    "names = []\n",
    "for name, model in models:\n",
    "    kfold = StratifiedKFold(n_splits=10, random_state=1, shuffle=True)\n",
    "    cv_results = cross_val_score(model, X_train, Y_train, cv=kfold, scoring='accuracy')\n",
    "    results.append(cv_results)\n",
    "    names.append(name)\n",
    "    print('%s: %f (%f)' % (name, cv_results.mean(), cv_results.std()))"
   ]
  },
  {
   "cell_type": "markdown",
   "id": "6cf13476-ddc0-49e2-be47-fd75bf24e242",
   "metadata": {},
   "source": [
    "Classification And Regression Trees has the largest estimated accuracy score at 100%"
   ]
  },
  {
   "cell_type": "code",
   "execution_count": 189,
   "id": "8b5421f0-3859-464a-a6bd-b6b09dac2ac9",
   "metadata": {},
   "outputs": [
    {
     "data": {
      "image/png": "[encoded data removed]",
      "text/plain": [
       "<Figure size 432x288 with 1 Axes>"
      ]
     },
     "metadata": {
      "needs_background": "light"
     },
     "output_type": "display_data"
    }
   ],
   "source": [
    "accuracies = [58.37, 48.96, 79.91, 100, 89.20, 59.75]\n",
    "labels = ['LR', 'LDA', 'KNN', 'CART', 'NB', 'SVM']\n",
    "\n",
    "pyplot.bar(labels, accuracies)\n",
    "pyplot.xlabel('Algorithims')\n",
    "pyplot.ylabel('Accuracy %')\n",
    "pyplot.title('Algorithm Comparison')\n",
    "pyplot.savefig('ML_bar.png')\n",
    "pyplot.show()"
   ]
  },
  {
   "cell_type": "code",
   "execution_count": 184,
   "id": "f89285a1-e478-4d2f-a858-9d2be4d7e9f5",
   "metadata": {},
   "outputs": [
    {
     "name": "stdout",
     "output_type": "stream",
     "text": [
      "1.0\n",
      "[[335   0   0   0   0]\n",
      " [  0 303   0   0   0]\n",
      " [  0   0 272   0   0]\n",
      " [  0   0   0 418   0]\n",
      " [  0   0   0   0 430]]\n",
      "              precision    recall  f1-score   support\n",
      "\n",
      "           A       1.00      1.00      1.00       335\n",
      "           B       1.00      1.00      1.00       303\n",
      "           C       1.00      1.00      1.00       272\n",
      "           D       1.00      1.00      1.00       418\n",
      "           F       1.00      1.00      1.00       430\n",
      "\n",
      "    accuracy                           1.00      1758\n",
      "   macro avg       1.00      1.00      1.00      1758\n",
      "weighted avg       1.00      1.00      1.00      1758\n",
      "\n"
     ]
    }
   ],
   "source": [
    "model = DecisionTreeClassifier()\n",
    "model.fit(X_train, Y_train)\n",
    "predictions = model.predict(X_validation)\n",
    "print(accuracy_score(Y_validation, predictions))\n",
    "print(confusion_matrix(Y_validation, predictions))\n",
    "print(classification_report(Y_validation, predictions))"
   ]
  },
  {
   "cell_type": "code",
   "execution_count": null,
   "id": "dfe72745-9ebe-4eb7-8dc5-182921824bce",
   "metadata": {},
   "outputs": [],
   "source": []
  }
 ],
 "metadata": {
  "kernelspec": {
   "display_name": "Python 3",
   "language": "python",
   "name": "python3"
  },
  "language_info": {
   "codemirror_mode": {
    "name": "ipython",
    "version": 3
   },
   "file_extension": ".py",
   "mimetype": "text/x-python",
   "name": "python",
   "nbconvert_exporter": "python",
   "pygments_lexer": "ipython3",
   "version": "3.8.8"
  }
 },
 "nbformat": 4,
 "nbformat_minor": 5
}
